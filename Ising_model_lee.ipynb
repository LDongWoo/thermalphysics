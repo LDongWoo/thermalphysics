{
  "nbformat": 4,
  "nbformat_minor": 0,
  "metadata": {
    "colab": {
      "name": "Ising model_lee.ipynb",
      "provenance": [],
      "authorship_tag": "ABX9TyPaFA+mI0d0tPuffx5jebtY",
      "include_colab_link": true
    },
    "kernelspec": {
      "name": "python3",
      "display_name": "Python 3"
    },
    "language_info": {
      "name": "python"
    }
  },
  "cells": [
    {
      "cell_type": "markdown",
      "metadata": {
        "id": "view-in-github",
        "colab_type": "text"
      },
      "source": [
        "<a href=\"https://colab.research.google.com/github/LDongWoo/thermalphysics/blob/main/Ising_model_lee.ipynb\" target=\"_parent\"><img src=\"https://colab.research.google.com/assets/colab-badge.svg\" alt=\"Open In Colab\"/></a>"
      ]
    },
    {
      "cell_type": "code",
      "metadata": {
        "id": "IsIXE8v0BtpP"
      },
      "source": [
        "import numpy as np\n",
        "import random \n",
        "import matplotlib.pyplot as plt"
      ],
      "execution_count": 2,
      "outputs": []
    },
    {
      "cell_type": "code",
      "metadata": {
        "colab": {
          "base_uri": "https://localhost:8080/",
          "height": 301
        },
        "id": "5FG239r0Bvww",
        "outputId": "10181284-ad65-4bde-86dc-a8a5ce176eb8"
      },
      "source": [
        "N = 50\n",
        "\n",
        "#초기상태 격자 생성\n",
        "spin = np.random.random((N,N))\n",
        "\n",
        "#스핀을 무작위로 배치\n",
        "# spin[spin > 0.5] = 1\n",
        "# spin[spin <= 0.5] = -1\n",
        "\n",
        "#spin을 모두 -1로 정렬, T = 0K 인 바닥상태\n",
        "spin[spin > 0] = -1\n",
        "\n",
        "E0 = 0\n",
        "\n",
        "for i in range (N):\n",
        "  for j in range (N):\n",
        "    a = i\n",
        "    b = j\n",
        "    r =  spin[a, b]\n",
        "    e = spin[(a+1)%N,b] + spin[a,(b+1)%N] + spin[(a-1)%N,b] + spin[a,(b-1)%N]\n",
        "    s = -(r*e)\n",
        "    E0 += s\n",
        "\n",
        "print(\"initial energy =\",E0)\n",
        "\n",
        "plt.imshow(spin)\n",
        "print(spin.sum()) "
      ],
      "execution_count": 3,
      "outputs": [
        {
          "output_type": "stream",
          "text": [
            "initial energy = -10000.0\n",
            "-2500.0\n"
          ],
          "name": "stdout"
        },
        {
          "output_type": "display_data",
          "data": {
            "image/png": "[encoded data removed]",
            "text/plain": [
              "<Figure size 432x288 with 1 Axes>"
            ]
          },
          "metadata": {
            "tags": [],
            "needs_background": "light"
          }
        }
      ]
    },
    {
      "cell_type": "code",
      "metadata": {
        "colab": {
          "base_uri": "https://localhost:8080/",
          "height": 318
        },
        "id": "MmowBZalB1gJ",
        "outputId": "36b15933-d97f-4839-b83a-3d2ea0e5fe7c"
      },
      "source": [
        "spin = np.random.random((N,N))\n",
        "spin[spin > 0] = -1\n",
        "\n",
        "# beta = (볼츠만 상수 * 온도)\n",
        "beta = (5)*10**(-1)\n",
        "\n",
        "T = 10*6\n",
        "\n",
        "E0 = 0\n",
        "\n",
        "#몬테카를로 \n",
        "for p in range (T):\n",
        "  for i in range (N):\n",
        "    for j in range (N):\n",
        "      a = np.random.randint(0, N) #임의의 원자 지정\n",
        "      b = np.random.randint(0, N)\n",
        "      r =  spin[a, b] \n",
        "      e = spin[(a+1)%N,b] + spin[a,(b+1)%N] + spin[(a-1)%N,b] + spin[a,(b-1)%N] #인접 원자들의 상태합\n",
        "      E = -(r*e) #임의의 원자와 그 인점 원자들로 구성된 계의 energy\n",
        "      dE = -2*E #energy 변화량\n",
        "\n",
        "      if dE <= 0: #계의 energy가 감소했다면 spin을 반전시킨다\n",
        "          spin[a, b] *= -1 \n",
        "    \n",
        "      elif random.random() < np.exp(-dE*beta): #계의 energy가 증가했다면, 볼츠만 인자를 따르는 확률로 spin 반전을 결정한다\n",
        "          spin[a, b] *= -1\n",
        "\n",
        "# energy 산출          \n",
        "E1 = 0\n",
        "\n",
        "for i in range (N):\n",
        "  for j in range (N):\n",
        "    a = i\n",
        "    b = j\n",
        "    r =  spin[a, b]\n",
        "    e = spin[(a+1)%N,b] + spin[a,(b+1)%N] + spin[(a-1)%N,b] + spin[a,(b-1)%N]\n",
        "    s = -(r*e)\n",
        "    E1 += s\n",
        "\n",
        "# print(n)\n",
        "print(\"final energy =\",E1)\n",
        "print(\"beta =\", beta)\n",
        "\n",
        "plt.imshow(spin)\n",
        "print(spin.sum()) \n",
        " "
      ],
      "execution_count": 5,
      "outputs": [
        {
          "output_type": "stream",
          "text": [
            "final energy = -8656.0\n",
            "beta = 0.5\n",
            "-2276.0\n"
          ],
          "name": "stdout"
        },
        {
          "output_type": "display_data",
          "data": {
            "image/png": "[encoded data removed]",
            "text/plain": [
              "<Figure size 432x288 with 1 Axes>"
            ]
          },
          "metadata": {
            "tags": [],
            "needs_background": "light"
          }
        }
      ]
    },
    {
      "cell_type": "code",
      "metadata": {
        "id": "ovmhKNbbOkPD"
      },
      "source": [
        ""
      ],
      "execution_count": null,
      "outputs": []
    }
  ]
}